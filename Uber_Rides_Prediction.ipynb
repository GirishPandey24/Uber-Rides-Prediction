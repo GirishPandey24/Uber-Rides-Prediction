{
  "nbformat": 4,
  "nbformat_minor": 0,
  "metadata": {
    "colab": {
      "name": "Uber Rides Prediction.ipynb",
      "provenance": [],
      "collapsed_sections": []
    },
    "kernelspec": {
      "name": "python3",
      "display_name": "Python 3"
    }
  },
  "cells": [
    {
      "cell_type": "code",
      "metadata": {
        "id": "RHnAU0U-Wztm"
      },
      "source": [
        "import numpy as np\r\n",
        "import pandas as pd\r\n",
        "import matplotlib.pyplot as plt\r\n",
        "import seaborn as sns"
      ],
      "execution_count": null,
      "outputs": []
    },
    {
      "cell_type": "code",
      "metadata": {
        "colab": {
          "base_uri": "https://localhost:8080/",
          "height": 204
        },
        "id": "B-r0OoZ4XBe6",
        "outputId": "14cb8cc1-4b39-4208-bbba-0bc035d498a7"
      },
      "source": [
        "data=pd.read_csv(\"taxi.csv\")\r\n",
        "data.head()"
      ],
      "execution_count": null,
      "outputs": [
        {
          "output_type": "execute_result",
          "data": {
            "text/html": [
              "<div>\n",
              "<style scoped>\n",
              "    .dataframe tbody tr th:only-of-type {\n",
              "        vertical-align: middle;\n",
              "    }\n",
              "\n",
              "    .dataframe tbody tr th {\n",
              "        vertical-align: top;\n",
              "    }\n",
              "\n",
              "    .dataframe thead th {\n",
              "        text-align: right;\n",
              "    }\n",
              "</style>\n",
              "<table border=\"1\" class=\"dataframe\">\n",
              "  <thead>\n",
              "    <tr style=\"text-align: right;\">\n",
              "      <th></th>\n",
              "      <th>Priceperweek</th>\n",
              "      <th>Population</th>\n",
              "      <th>Monthlyincome</th>\n",
              "      <th>Averageparkingpermonth</th>\n",
              "      <th>Numberofweeklyriders</th>\n",
              "    </tr>\n",
              "  </thead>\n",
              "  <tbody>\n",
              "    <tr>\n",
              "      <th>0</th>\n",
              "      <td>15</td>\n",
              "      <td>1800000</td>\n",
              "      <td>5800</td>\n",
              "      <td>50</td>\n",
              "      <td>192000</td>\n",
              "    </tr>\n",
              "    <tr>\n",
              "      <th>1</th>\n",
              "      <td>15</td>\n",
              "      <td>1790000</td>\n",
              "      <td>6200</td>\n",
              "      <td>50</td>\n",
              "      <td>190400</td>\n",
              "    </tr>\n",
              "    <tr>\n",
              "      <th>2</th>\n",
              "      <td>15</td>\n",
              "      <td>1780000</td>\n",
              "      <td>6400</td>\n",
              "      <td>60</td>\n",
              "      <td>191200</td>\n",
              "    </tr>\n",
              "    <tr>\n",
              "      <th>3</th>\n",
              "      <td>25</td>\n",
              "      <td>1778000</td>\n",
              "      <td>6500</td>\n",
              "      <td>60</td>\n",
              "      <td>177600</td>\n",
              "    </tr>\n",
              "    <tr>\n",
              "      <th>4</th>\n",
              "      <td>25</td>\n",
              "      <td>1750000</td>\n",
              "      <td>6550</td>\n",
              "      <td>60</td>\n",
              "      <td>176800</td>\n",
              "    </tr>\n",
              "  </tbody>\n",
              "</table>\n",
              "</div>"
            ],
            "text/plain": [
              "   Priceperweek  Population  ...  Averageparkingpermonth  Numberofweeklyriders\n",
              "0            15     1800000  ...                      50                192000\n",
              "1            15     1790000  ...                      50                190400\n",
              "2            15     1780000  ...                      60                191200\n",
              "3            25     1778000  ...                      60                177600\n",
              "4            25     1750000  ...                      60                176800\n",
              "\n",
              "[5 rows x 5 columns]"
            ]
          },
          "metadata": {
            "tags": []
          },
          "execution_count": 3
        }
      ]
    },
    {
      "cell_type": "code",
      "metadata": {
        "colab": {
          "base_uri": "https://localhost:8080/"
        },
        "id": "3TYQzgguXeGe",
        "outputId": "34420039-7aa5-439a-e8ae-a55e0cff34f4"
      },
      "source": [
        "data.info()"
      ],
      "execution_count": null,
      "outputs": [
        {
          "output_type": "stream",
          "text": [
            "<class 'pandas.core.frame.DataFrame'>\n",
            "RangeIndex: 27 entries, 0 to 26\n",
            "Data columns (total 5 columns):\n",
            " #   Column                  Non-Null Count  Dtype\n",
            "---  ------                  --------------  -----\n",
            " 0   Priceperweek            27 non-null     int64\n",
            " 1   Population              27 non-null     int64\n",
            " 2   Monthlyincome           27 non-null     int64\n",
            " 3   Averageparkingpermonth  27 non-null     int64\n",
            " 4   Numberofweeklyriders    27 non-null     int64\n",
            "dtypes: int64(5)\n",
            "memory usage: 1.2 KB\n"
          ],
          "name": "stdout"
        }
      ]
    },
    {
      "cell_type": "code",
      "metadata": {
        "colab": {
          "base_uri": "https://localhost:8080/"
        },
        "id": "EcuIosMed45_",
        "outputId": "da02f454-3805-43f3-aad2-23ba3bfaa388"
      },
      "source": [
        "data.shape"
      ],
      "execution_count": null,
      "outputs": [
        {
          "output_type": "execute_result",
          "data": {
            "text/plain": [
              "(27, 5)"
            ]
          },
          "metadata": {
            "tags": []
          },
          "execution_count": 5
        }
      ]
    },
    {
      "cell_type": "code",
      "metadata": {
        "colab": {
          "base_uri": "https://localhost:8080/",
          "height": 297
        },
        "id": "kXW9pEuHeRZs",
        "outputId": "09923464-50a6-4c35-8aa2-ef321a8cf2ef"
      },
      "source": [
        "data.describe()"
      ],
      "execution_count": null,
      "outputs": [
        {
          "output_type": "execute_result",
          "data": {
            "text/html": [
              "<div>\n",
              "<style scoped>\n",
              "    .dataframe tbody tr th:only-of-type {\n",
              "        vertical-align: middle;\n",
              "    }\n",
              "\n",
              "    .dataframe tbody tr th {\n",
              "        vertical-align: top;\n",
              "    }\n",
              "\n",
              "    .dataframe thead th {\n",
              "        text-align: right;\n",
              "    }\n",
              "</style>\n",
              "<table border=\"1\" class=\"dataframe\">\n",
              "  <thead>\n",
              "    <tr style=\"text-align: right;\">\n",
              "      <th></th>\n",
              "      <th>Priceperweek</th>\n",
              "      <th>Population</th>\n",
              "      <th>Monthlyincome</th>\n",
              "      <th>Averageparkingpermonth</th>\n",
              "      <th>Numberofweeklyriders</th>\n",
              "    </tr>\n",
              "  </thead>\n",
              "  <tbody>\n",
              "    <tr>\n",
              "      <th>count</th>\n",
              "      <td>27.000000</td>\n",
              "      <td>2.700000e+01</td>\n",
              "      <td>27.000000</td>\n",
              "      <td>27.000000</td>\n",
              "      <td>27.000000</td>\n",
              "    </tr>\n",
              "    <tr>\n",
              "      <th>mean</th>\n",
              "      <td>49.925926</td>\n",
              "      <td>1.680111e+06</td>\n",
              "      <td>11063.259259</td>\n",
              "      <td>107.037037</td>\n",
              "      <td>160026.074074</td>\n",
              "    </tr>\n",
              "    <tr>\n",
              "      <th>std</th>\n",
              "      <td>27.627921</td>\n",
              "      <td>6.780307e+04</td>\n",
              "      <td>3416.627944</td>\n",
              "      <td>45.346089</td>\n",
              "      <td>21301.097303</td>\n",
              "    </tr>\n",
              "    <tr>\n",
              "      <th>min</th>\n",
              "      <td>15.000000</td>\n",
              "      <td>1.590000e+06</td>\n",
              "      <td>5800.000000</td>\n",
              "      <td>50.000000</td>\n",
              "      <td>115696.000000</td>\n",
              "    </tr>\n",
              "    <tr>\n",
              "      <th>25%</th>\n",
              "      <td>27.500000</td>\n",
              "      <td>1.617500e+06</td>\n",
              "      <td>8400.000000</td>\n",
              "      <td>75.000000</td>\n",
              "      <td>149600.000000</td>\n",
              "    </tr>\n",
              "    <tr>\n",
              "      <th>50%</th>\n",
              "      <td>40.000000</td>\n",
              "      <td>1.695000e+06</td>\n",
              "      <td>11600.000000</td>\n",
              "      <td>100.000000</td>\n",
              "      <td>161600.000000</td>\n",
              "    </tr>\n",
              "    <tr>\n",
              "      <th>75%</th>\n",
              "      <td>75.000000</td>\n",
              "      <td>1.725000e+06</td>\n",
              "      <td>13888.000000</td>\n",
              "      <td>140.000000</td>\n",
              "      <td>176000.000000</td>\n",
              "    </tr>\n",
              "    <tr>\n",
              "      <th>max</th>\n",
              "      <td>102.000000</td>\n",
              "      <td>1.800000e+06</td>\n",
              "      <td>16200.000000</td>\n",
              "      <td>200.000000</td>\n",
              "      <td>192000.000000</td>\n",
              "    </tr>\n",
              "  </tbody>\n",
              "</table>\n",
              "</div>"
            ],
            "text/plain": [
              "       Priceperweek    Population  ...  Averageparkingpermonth  Numberofweeklyriders\n",
              "count     27.000000  2.700000e+01  ...               27.000000             27.000000\n",
              "mean      49.925926  1.680111e+06  ...              107.037037         160026.074074\n",
              "std       27.627921  6.780307e+04  ...               45.346089          21301.097303\n",
              "min       15.000000  1.590000e+06  ...               50.000000         115696.000000\n",
              "25%       27.500000  1.617500e+06  ...               75.000000         149600.000000\n",
              "50%       40.000000  1.695000e+06  ...              100.000000         161600.000000\n",
              "75%       75.000000  1.725000e+06  ...              140.000000         176000.000000\n",
              "max      102.000000  1.800000e+06  ...              200.000000         192000.000000\n",
              "\n",
              "[8 rows x 5 columns]"
            ]
          },
          "metadata": {
            "tags": []
          },
          "execution_count": 6
        }
      ]
    },
    {
      "cell_type": "code",
      "metadata": {
        "colab": {
          "base_uri": "https://localhost:8080/"
        },
        "id": "ShH9tm6deYYA",
        "outputId": "75694b36-94d0-41a6-a710-2c3dc0522050"
      },
      "source": [
        "X=data.drop(\"Numberofweeklyriders\",axis=1).values\r\n",
        "type(X)"
      ],
      "execution_count": null,
      "outputs": [
        {
          "output_type": "execute_result",
          "data": {
            "text/plain": [
              "numpy.ndarray"
            ]
          },
          "metadata": {
            "tags": []
          },
          "execution_count": 14
        }
      ]
    },
    {
      "cell_type": "code",
      "metadata": {
        "colab": {
          "base_uri": "https://localhost:8080/"
        },
        "id": "sfPrO7o2ejd0",
        "outputId": "2ac21bfe-bc6e-41e8-d370-077a98ef8499"
      },
      "source": [
        "y=data[\"Numberofweeklyriders\"].values\r\n",
        "type(y)"
      ],
      "execution_count": null,
      "outputs": [
        {
          "output_type": "execute_result",
          "data": {
            "text/plain": [
              "numpy.ndarray"
            ]
          },
          "metadata": {
            "tags": []
          },
          "execution_count": 18
        }
      ]
    },
    {
      "cell_type": "code",
      "metadata": {
        "id": "_zKPN3rbjn--"
      },
      "source": [
        "from sklearn.model_selection import train_test_split\r\n",
        "X_train,X_test,y_train,y_test=train_test_split(X,y,test_size=0.3,random_state=0)"
      ],
      "execution_count": null,
      "outputs": []
    },
    {
      "cell_type": "code",
      "metadata": {
        "id": "_6N4dUSmki7L"
      },
      "source": [
        "from sklearn.linear_model import LinearRegression\r\n",
        "reg=LinearRegression()\r\n",
        "reg.fit(X_train,y_train)\r\n",
        "y_pred_reg=reg.predict(X_test)"
      ],
      "execution_count": null,
      "outputs": []
    },
    {
      "cell_type": "code",
      "metadata": {
        "colab": {
          "base_uri": "https://localhost:8080/"
        },
        "id": "He9BUJnOmTKe",
        "outputId": "683e13ce-d822-407d-dfb9-9dac96a8d447"
      },
      "source": [
        "from sklearn.metrics import accuracy_score\r\n",
        "print(\"Training Score :\",reg.score(X_train,y_train))\r\n",
        "print(\"Testing Score:\",reg.score(X_test,y_test))\r\n",
        "#print(\"Model Accuracy:\",accuracy_score(y_test,y_pred_reg))"
      ],
      "execution_count": null,
      "outputs": [
        {
          "output_type": "stream",
          "text": [
            "Training Score : 0.9428364724316813\n",
            "Testing Score: 0.9157379222488221\n"
          ],
          "name": "stdout"
        }
      ]
    },
    {
      "cell_type": "code",
      "metadata": {
        "id": "nXt6N0I3nCS5"
      },
      "source": [
        "import pickle\r\n",
        "pickle.dump(reg,open('taxi.pkl','wb'))\r\n"
      ],
      "execution_count": null,
      "outputs": []
    },
    {
      "cell_type": "code",
      "metadata": {
        "colab": {
          "base_uri": "https://localhost:8080/"
        },
        "id": "vd7qoyUkq5xF",
        "outputId": "41406866-a353-4e9d-962c-7c0c03567482"
      },
      "source": [
        "model=pickle.load(open('taxi.pkl','rb'))\r\n",
        "model.predict([[80,1770000,6000,85]])"
      ],
      "execution_count": null,
      "outputs": [
        {
          "output_type": "execute_result",
          "data": {
            "text/plain": [
              "array([153448.45038985])"
            ]
          },
          "metadata": {
            "tags": []
          },
          "execution_count": 27
        }
      ]
    },
    {
      "cell_type": "code",
      "metadata": {
        "id": "gM1zCO0NrkmC"
      },
      "source": [
        ""
      ],
      "execution_count": null,
      "outputs": []
    }
  ]
}